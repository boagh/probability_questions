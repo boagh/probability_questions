{
 "cells": [
  {
   "cell_type": "markdown",
   "id": "19304a7e",
   "metadata": {},
   "source": [
    "### How many people are required so that any two people in the group have the same birthday with at least a 50-50 chance?"
   ]
  },
  {
   "cell_type": "markdown",
   "id": "5e76cc3c",
   "metadata": {},
   "source": [
    "Instead of calculating the probability that two people in a group have the same birthday, we calculate the inverse of the problem: **the probability that two people in a group do not have the same birthday**.\n",
    "\n",
    "for group of 5 people: \n",
    "\n",
    "p_inv = (365/365) * (364/365) * (363/365) * (362/365) * (361/365) = 0.97286 --> **97.286 %**\n",
    "\n",
    "Then, we calculate the complement of that probability:\n",
    "\n",
    "p = 1 - p_inv = 0.02714 --> **2.714 %**"
   ]
  },
  {
   "cell_type": "code",
   "execution_count": 62,
   "id": "2abb9e90",
   "metadata": {},
   "outputs": [
    {
     "name": "stdout",
     "output_type": "stream",
     "text": [
      "n=2\tp=0.274\n",
      "n=3\tp=0.820\n",
      "n=4\tp=1.636\n",
      "n=5\tp=2.714\n",
      "n=6\tp=4.046\n",
      "n=7\tp=5.624\n",
      "n=8\tp=7.434\n",
      "n=9\tp=9.462\n",
      "n=10\tp=11.695\n",
      "n=11\tp=14.114\n",
      "n=12\tp=16.702\n",
      "n=13\tp=19.441\n",
      "n=14\tp=22.310\n",
      "n=15\tp=25.290\n",
      "n=16\tp=28.360\n",
      "n=17\tp=31.501\n",
      "n=18\tp=34.691\n",
      "n=19\tp=37.912\n",
      "n=20\tp=41.144\n",
      "n=21\tp=44.369\n",
      "n=22\tp=47.570\n",
      "n=23\tp=50.730\n",
      "n=24\tp=53.834\n",
      "n=25\tp=56.870\n",
      "n=26\tp=59.824\n",
      "n=27\tp=62.686\n",
      "n=28\tp=65.446\n",
      "n=29\tp=68.097\n",
      "n=30\tp=70.632\n",
      "n=31\tp=73.045\n",
      "n=32\tp=75.335\n",
      "n=33\tp=77.497\n",
      "n=34\tp=79.532\n",
      "n=35\tp=81.438\n",
      "n=36\tp=83.218\n",
      "n=37\tp=84.873\n",
      "n=38\tp=86.407\n",
      "n=39\tp=87.822\n",
      "n=40\tp=89.123\n",
      "n=41\tp=90.315\n",
      "n=42\tp=91.403\n",
      "n=43\tp=92.392\n",
      "n=44\tp=93.289\n",
      "n=45\tp=94.098\n",
      "n=46\tp=94.825\n",
      "n=47\tp=95.477\n",
      "n=48\tp=96.060\n",
      "n=49\tp=96.578\n",
      "n=50\tp=97.037\n",
      "n=51\tp=97.443\n",
      "n=52\tp=97.800\n",
      "n=53\tp=98.114\n",
      "n=54\tp=98.388\n",
      "n=55\tp=98.626\n",
      "n=56\tp=98.833\n",
      "n=57\tp=99.012\n",
      "n=58\tp=99.166\n",
      "n=59\tp=99.299\n",
      "n=60\tp=99.412\n"
     ]
    }
   ],
   "source": [
    "n = 60\n",
    "p_inv = 1.0\n",
    "for i in range(1, n):\n",
    "    p_inv *= (365-i) / 365\n",
    "    print('n=%d\\tp=%.3f' % (i+1, (1-p_inv)*100))"
   ]
  },
  {
   "cell_type": "markdown",
   "id": "e99bbf42",
   "metadata": {},
   "source": [
    "It means we need at least **23** people so that any two people in the group have the same birthday with at least **50%** probability. \n",
    "\n",
    "By having **57** people in the group, the probability of two people having the same birthday is above **99%**."
   ]
  }
 ],
 "metadata": {
  "kernelspec": {
   "display_name": "Python 3 (ipykernel)",
   "language": "python",
   "name": "python3"
  },
  "language_info": {
   "codemirror_mode": {
    "name": "ipython",
    "version": 3
   },
   "file_extension": ".py",
   "mimetype": "text/x-python",
   "name": "python",
   "nbconvert_exporter": "python",
   "pygments_lexer": "ipython3",
   "version": "3.10.0"
  }
 },
 "nbformat": 4,
 "nbformat_minor": 5
}
